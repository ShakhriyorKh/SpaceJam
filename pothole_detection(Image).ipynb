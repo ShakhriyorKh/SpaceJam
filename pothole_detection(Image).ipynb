{
 "cells": [
  {
   "cell_type": "markdown",
   "metadata": {
    "colab_type": "text",
    "id": "view-in-github"
   },
   "source": [
    "<a href=\"https://colab.research.google.com/github/arihant-jain-09/AI-pothole-detection/blob/arihant/AI_pothole_detection(Image).ipynb\" target=\"_parent\"><img src=\"https://colab.research.google.com/assets/colab-badge.svg\" alt=\"Open In Colab\"/></a>"
   ]
  },
  {
   "cell_type": "code",
   "execution_count": 76,
   "metadata": {
    "colab": {
     "base_uri": "https://localhost:8080/"
    },
    "id": "zp6GyuB5OGfW",
    "outputId": "d8d4c585-4920-42ce-a5ce-d1afbcdaf432"
   },
   "outputs": [
    {
     "name": "stdout",
     "output_type": "stream",
     "text": [
      "Requirement already satisfied: tensorflow-object-detection-api in d:\\program files\\anaconda\\lib\\site-packages (0.1.1)\n",
      "Requirement already satisfied: lxml in d:\\program files\\anaconda\\lib\\site-packages (from tensorflow-object-detection-api) (4.8.0)\n",
      "Requirement already satisfied: contextlib2 in d:\\program files\\anaconda\\lib\\site-packages (from tensorflow-object-detection-api) (0.6.0.post1)\n",
      "Requirement already satisfied: matplotlib in d:\\program files\\anaconda\\lib\\site-packages (from tensorflow-object-detection-api) (3.2.0)\n",
      "Requirement already satisfied: jupyter in d:\\program files\\anaconda\\lib\\site-packages (from tensorflow-object-detection-api) (1.0.0)\n",
      "Requirement already satisfied: Cython>=0.28.1 in d:\\program files\\anaconda\\lib\\site-packages (from tensorflow-object-detection-api) (0.29.28)\n",
      "Requirement already satisfied: wheel in d:\\program files\\anaconda\\lib\\site-packages (from tensorflow-object-detection-api) (0.37.1)\n",
      "Requirement already satisfied: Protobuf in d:\\program files\\anaconda\\lib\\site-packages (from tensorflow-object-detection-api) (3.19.4)\n",
      "Requirement already satisfied: tensorflow in d:\\program files\\anaconda\\lib\\site-packages (from tensorflow-object-detection-api) (2.9.1)\n",
      "Requirement already satisfied: twine in d:\\program files\\anaconda\\lib\\site-packages (from tensorflow-object-detection-api) (4.0.1)\n",
      "Requirement already satisfied: Pillow>=1.0 in d:\\program files\\anaconda\\lib\\site-packages (from tensorflow-object-detection-api) (9.0.1)\n",
      "Requirement already satisfied: kiwisolver>=1.0.1 in d:\\program files\\anaconda\\lib\\site-packages (from matplotlib->tensorflow-object-detection-api) (1.3.2)\n",
      "Requirement already satisfied: pyparsing!=2.0.4,!=2.1.2,!=2.1.6,>=2.0.1 in d:\\program files\\anaconda\\lib\\site-packages (from matplotlib->tensorflow-object-detection-api) (3.0.4)\n",
      "Requirement already satisfied: numpy>=1.11 in d:\\program files\\anaconda\\lib\\site-packages (from matplotlib->tensorflow-object-detection-api) (1.21.5)\n",
      "Requirement already satisfied: cycler>=0.10 in d:\\program files\\anaconda\\lib\\site-packages (from matplotlib->tensorflow-object-detection-api) (0.11.0)\n",
      "Requirement already satisfied: python-dateutil>=2.1 in d:\\program files\\anaconda\\lib\\site-packages (from matplotlib->tensorflow-object-detection-api) (2.8.2)\n",
      "Requirement already satisfied: ipykernel in d:\\program files\\anaconda\\lib\\site-packages (from jupyter->tensorflow-object-detection-api) (6.9.1)\n",
      "Requirement already satisfied: nbconvert in d:\\program files\\anaconda\\lib\\site-packages (from jupyter->tensorflow-object-detection-api) (6.4.4)\n",
      "Requirement already satisfied: qtconsole in d:\\program files\\anaconda\\lib\\site-packages (from jupyter->tensorflow-object-detection-api) (5.3.0)\n",
      "Requirement already satisfied: jupyter-console in d:\\program files\\anaconda\\lib\\site-packages (from jupyter->tensorflow-object-detection-api) (6.4.0)\n",
      "Requirement already satisfied: notebook in d:\\program files\\anaconda\\lib\\site-packages (from jupyter->tensorflow-object-detection-api) (6.4.8)\n",
      "Requirement already satisfied: ipywidgets in d:\\program files\\anaconda\\lib\\site-packages (from jupyter->tensorflow-object-detection-api) (7.6.5)\n",
      "Requirement already satisfied: wrapt>=1.11.0 in d:\\program files\\anaconda\\lib\\site-packages (from tensorflow->tensorflow-object-detection-api) (1.12.1)\n",
      "Requirement already satisfied: gast<=0.4.0,>=0.2.1 in d:\\program files\\anaconda\\lib\\site-packages (from tensorflow->tensorflow-object-detection-api) (0.4.0)\n",
      "Requirement already satisfied: termcolor>=1.1.0 in d:\\program files\\anaconda\\lib\\site-packages (from tensorflow->tensorflow-object-detection-api) (1.1.0)\n",
      "Requirement already satisfied: tensorflow-io-gcs-filesystem>=0.23.1 in d:\\program files\\anaconda\\lib\\site-packages (from tensorflow->tensorflow-object-detection-api) (0.26.0)\n",
      "Requirement already satisfied: keras-preprocessing>=1.1.1 in d:\\program files\\anaconda\\lib\\site-packages (from tensorflow->tensorflow-object-detection-api) (1.1.2)\n",
      "Requirement already satisfied: typing-extensions>=3.6.6 in d:\\program files\\anaconda\\lib\\site-packages (from tensorflow->tensorflow-object-detection-api) (3.10.0.2)\n",
      "Requirement already satisfied: tensorflow-estimator<2.10.0,>=2.9.0rc0 in d:\\program files\\anaconda\\lib\\site-packages (from tensorflow->tensorflow-object-detection-api) (2.9.0)\n",
      "Requirement already satisfied: flatbuffers<2,>=1.12 in d:\\program files\\anaconda\\lib\\site-packages (from tensorflow->tensorflow-object-detection-api) (1.12)\n",
      "Requirement already satisfied: keras<2.10.0,>=2.9.0rc0 in d:\\program files\\anaconda\\lib\\site-packages (from tensorflow->tensorflow-object-detection-api) (2.9.0)\n",
      "Requirement already satisfied: google-pasta>=0.1.1 in d:\\program files\\anaconda\\lib\\site-packages (from tensorflow->tensorflow-object-detection-api) (0.2.0)\n",
      "Requirement already satisfied: libclang>=13.0.0 in d:\\program files\\anaconda\\lib\\site-packages (from tensorflow->tensorflow-object-detection-api) (14.0.1)\n",
      "Requirement already satisfied: tensorboard<2.10,>=2.9 in d:\\program files\\anaconda\\lib\\site-packages (from tensorflow->tensorflow-object-detection-api) (2.9.1)\n",
      "Requirement already satisfied: astunparse>=1.6.0 in d:\\program files\\anaconda\\lib\\site-packages (from tensorflow->tensorflow-object-detection-api) (1.6.3)\n",
      "Requirement already satisfied: setuptools in d:\\program files\\anaconda\\lib\\site-packages (from tensorflow->tensorflow-object-detection-api) (61.2.0)\n",
      "Requirement already satisfied: absl-py>=1.0.0 in d:\\program files\\anaconda\\lib\\site-packages\\absl_py-1.1.0-py3.9.egg (from tensorflow->tensorflow-object-detection-api) (1.1.0)\n",
      "Requirement already satisfied: packaging in d:\\program files\\anaconda\\lib\\site-packages (from tensorflow->tensorflow-object-detection-api) (21.3)\n",
      "Requirement already satisfied: h5py>=2.9.0 in d:\\program files\\anaconda\\lib\\site-packages (from tensorflow->tensorflow-object-detection-api) (3.6.0)\n",
      "Requirement already satisfied: opt-einsum>=2.3.2 in d:\\program files\\anaconda\\lib\\site-packages (from tensorflow->tensorflow-object-detection-api) (3.3.0)\n",
      "Requirement already satisfied: six>=1.12.0 in d:\\program files\\anaconda\\lib\\site-packages (from tensorflow->tensorflow-object-detection-api) (1.16.0)\n",
      "Requirement already satisfied: grpcio<2.0,>=1.24.3 in d:\\program files\\anaconda\\lib\\site-packages (from tensorflow->tensorflow-object-detection-api) (1.42.0)\n",
      "Requirement already satisfied: rich>=12.0.0 in d:\\program files\\anaconda\\lib\\site-packages (from twine->tensorflow-object-detection-api) (12.4.4)\n",
      "Requirement already satisfied: requests-toolbelt!=0.9.0,>=0.8.0 in d:\\program files\\anaconda\\lib\\site-packages (from twine->tensorflow-object-detection-api) (0.9.1)\n",
      "Requirement already satisfied: keyring>=15.1 in d:\\program files\\anaconda\\lib\\site-packages (from twine->tensorflow-object-detection-api) (23.4.0)\n",
      "Requirement already satisfied: urllib3>=1.26.0 in d:\\program files\\anaconda\\lib\\site-packages (from twine->tensorflow-object-detection-api) (1.26.9)\n",
      "Requirement already satisfied: pkginfo>=1.8.1 in d:\\program files\\anaconda\\lib\\site-packages (from twine->tensorflow-object-detection-api) (1.8.2)\n",
      "Requirement already satisfied: importlib-metadata>=3.6 in d:\\program files\\anaconda\\lib\\site-packages (from twine->tensorflow-object-detection-api) (4.11.3)\n",
      "Requirement already satisfied: readme-renderer>=35.0 in d:\\program files\\anaconda\\lib\\site-packages (from twine->tensorflow-object-detection-api) (35.0)\n",
      "Requirement already satisfied: rfc3986>=1.4.0 in d:\\program files\\anaconda\\lib\\site-packages (from twine->tensorflow-object-detection-api) (2.0.0)\n",
      "Requirement already satisfied: requests>=2.20 in d:\\program files\\anaconda\\lib\\site-packages (from twine->tensorflow-object-detection-api) (2.27.1)\n",
      "Requirement already satisfied: zipp>=0.5 in d:\\program files\\anaconda\\lib\\site-packages (from importlib-metadata>=3.6->twine->tensorflow-object-detection-api) (3.7.0)\n",
      "Requirement already satisfied: pywin32-ctypes!=0.1.0,!=0.1.1 in d:\\program files\\anaconda\\lib\\site-packages (from keyring>=15.1->twine->tensorflow-object-detection-api) (0.2.0)\n",
      "Requirement already satisfied: Pygments>=2.5.1 in d:\\program files\\anaconda\\lib\\site-packages (from readme-renderer>=35.0->twine->tensorflow-object-detection-api) (2.11.2)\n",
      "Requirement already satisfied: docutils>=0.13.1 in d:\\program files\\anaconda\\lib\\site-packages (from readme-renderer>=35.0->twine->tensorflow-object-detection-api) (0.17.1)\n",
      "Requirement already satisfied: bleach>=2.1.0 in d:\\program files\\anaconda\\lib\\site-packages (from readme-renderer>=35.0->twine->tensorflow-object-detection-api) (4.1.0)\n",
      "Requirement already satisfied: charset-normalizer~=2.0.0 in d:\\program files\\anaconda\\lib\\site-packages (from requests>=2.20->twine->tensorflow-object-detection-api) (2.0.4)\n",
      "Requirement already satisfied: idna<4,>=2.5 in d:\\program files\\anaconda\\lib\\site-packages (from requests>=2.20->twine->tensorflow-object-detection-api) (3.3)\n",
      "Requirement already satisfied: certifi>=2017.4.17 in d:\\program files\\anaconda\\lib\\site-packages (from requests>=2.20->twine->tensorflow-object-detection-api) (2021.10.8)\n",
      "Requirement already satisfied: commonmark<0.10.0,>=0.9.0 in d:\\program files\\anaconda\\lib\\site-packages (from rich>=12.0.0->twine->tensorflow-object-detection-api) (0.9.1)\n",
      "Requirement already satisfied: werkzeug>=1.0.1 in d:\\program files\\anaconda\\lib\\site-packages (from tensorboard<2.10,>=2.9->tensorflow->tensorflow-object-detection-api) (2.0.3)\n",
      "Requirement already satisfied: tensorboard-plugin-wit>=1.6.0 in d:\\program files\\anaconda\\lib\\site-packages (from tensorboard<2.10,>=2.9->tensorflow->tensorflow-object-detection-api) (1.8.1)\n",
      "Requirement already satisfied: tensorboard-data-server<0.7.0,>=0.6.0 in d:\\program files\\anaconda\\lib\\site-packages (from tensorboard<2.10,>=2.9->tensorflow->tensorflow-object-detection-api) (0.6.1)\n",
      "Requirement already satisfied: markdown>=2.6.8 in d:\\program files\\anaconda\\lib\\site-packages (from tensorboard<2.10,>=2.9->tensorflow->tensorflow-object-detection-api) (3.3.4)\n",
      "Requirement already satisfied: google-auth-oauthlib<0.5,>=0.4.1 in d:\\program files\\anaconda\\lib\\site-packages (from tensorboard<2.10,>=2.9->tensorflow->tensorflow-object-detection-api) (0.4.6)\n",
      "Requirement already satisfied: google-auth<3,>=1.6.3 in d:\\program files\\anaconda\\lib\\site-packages (from tensorboard<2.10,>=2.9->tensorflow->tensorflow-object-detection-api) (1.33.0)\n",
      "Requirement already satisfied: tornado<7.0,>=4.2 in d:\\program files\\anaconda\\lib\\site-packages (from ipykernel->jupyter->tensorflow-object-detection-api) (6.1)\n",
      "Requirement already satisfied: traitlets<6.0,>=5.1.0 in d:\\program files\\anaconda\\lib\\site-packages (from ipykernel->jupyter->tensorflow-object-detection-api) (5.1.1)\n",
      "Requirement already satisfied: ipython>=7.23.1 in d:\\program files\\anaconda\\lib\\site-packages (from ipykernel->jupyter->tensorflow-object-detection-api) (8.2.0)\n",
      "Requirement already satisfied: matplotlib-inline<0.2.0,>=0.1.0 in d:\\program files\\anaconda\\lib\\site-packages (from ipykernel->jupyter->tensorflow-object-detection-api) (0.1.2)\n",
      "Requirement already satisfied: debugpy<2.0,>=1.0.0 in d:\\program files\\anaconda\\lib\\site-packages (from ipykernel->jupyter->tensorflow-object-detection-api) (1.5.1)\n",
      "Requirement already satisfied: nest-asyncio in d:\\program files\\anaconda\\lib\\site-packages (from ipykernel->jupyter->tensorflow-object-detection-api) (1.5.5)\n",
      "Requirement already satisfied: jupyter-client<8.0 in d:\\program files\\anaconda\\lib\\site-packages (from ipykernel->jupyter->tensorflow-object-detection-api) (6.1.12)\n",
      "Requirement already satisfied: nbformat>=4.2.0 in d:\\program files\\anaconda\\lib\\site-packages (from ipywidgets->jupyter->tensorflow-object-detection-api) (5.3.0)\n",
      "Requirement already satisfied: widgetsnbextension~=3.5.0 in d:\\program files\\anaconda\\lib\\site-packages (from ipywidgets->jupyter->tensorflow-object-detection-api) (3.5.2)\n",
      "Requirement already satisfied: jupyterlab-widgets>=1.0.0 in d:\\program files\\anaconda\\lib\\site-packages (from ipywidgets->jupyter->tensorflow-object-detection-api) (1.0.0)\n",
      "Requirement already satisfied: ipython-genutils~=0.2.0 in d:\\program files\\anaconda\\lib\\site-packages (from ipywidgets->jupyter->tensorflow-object-detection-api) (0.2.0)\n",
      "Requirement already satisfied: prompt-toolkit!=3.0.0,!=3.0.1,<3.1.0,>=2.0.0 in d:\\program files\\anaconda\\lib\\site-packages (from jupyter-console->jupyter->tensorflow-object-detection-api) (3.0.20)\n",
      "Requirement already satisfied: mistune<2,>=0.8.1 in d:\\program files\\anaconda\\lib\\site-packages (from nbconvert->jupyter->tensorflow-object-detection-api) (0.8.4)\n",
      "Requirement already satisfied: jupyter-core in d:\\program files\\anaconda\\lib\\site-packages (from nbconvert->jupyter->tensorflow-object-detection-api) (4.9.2)\n",
      "Requirement already satisfied: entrypoints>=0.2.2 in d:\\program files\\anaconda\\lib\\site-packages (from nbconvert->jupyter->tensorflow-object-detection-api) (0.4)\n",
      "Requirement already satisfied: testpath in d:\\program files\\anaconda\\lib\\site-packages (from nbconvert->jupyter->tensorflow-object-detection-api) (0.5.0)\n",
      "Requirement already satisfied: defusedxml in d:\\program files\\anaconda\\lib\\site-packages (from nbconvert->jupyter->tensorflow-object-detection-api) (0.7.1)\n",
      "Requirement already satisfied: jinja2>=2.4 in d:\\program files\\anaconda\\lib\\site-packages (from nbconvert->jupyter->tensorflow-object-detection-api) (2.11.3)\n",
      "Requirement already satisfied: pandocfilters>=1.4.1 in d:\\program files\\anaconda\\lib\\site-packages (from nbconvert->jupyter->tensorflow-object-detection-api) (1.5.0)\n",
      "Requirement already satisfied: nbclient<0.6.0,>=0.5.0 in d:\\program files\\anaconda\\lib\\site-packages (from nbconvert->jupyter->tensorflow-object-detection-api) (0.5.13)\n",
      "Requirement already satisfied: jupyterlab-pygments in d:\\program files\\anaconda\\lib\\site-packages (from nbconvert->jupyter->tensorflow-object-detection-api) (0.1.2)\n",
      "Requirement already satisfied: beautifulsoup4 in d:\\program files\\anaconda\\lib\\site-packages (from nbconvert->jupyter->tensorflow-object-detection-api) (4.11.1)\n",
      "Requirement already satisfied: terminado>=0.8.3 in d:\\program files\\anaconda\\lib\\site-packages (from notebook->jupyter->tensorflow-object-detection-api) (0.13.1)\n",
      "Requirement already satisfied: argon2-cffi in d:\\program files\\anaconda\\lib\\site-packages (from notebook->jupyter->tensorflow-object-detection-api) (21.3.0)\n",
      "Requirement already satisfied: prometheus-client in d:\\program files\\anaconda\\lib\\site-packages (from notebook->jupyter->tensorflow-object-detection-api) (0.13.1)\n",
      "Requirement already satisfied: Send2Trash>=1.8.0 in d:\\program files\\anaconda\\lib\\site-packages (from notebook->jupyter->tensorflow-object-detection-api) (1.8.0)\n",
      "Requirement already satisfied: pyzmq>=17 in d:\\program files\\anaconda\\lib\\site-packages (from notebook->jupyter->tensorflow-object-detection-api) (22.3.0)\n",
      "Requirement already satisfied: qtpy>=2.0.1 in d:\\program files\\anaconda\\lib\\site-packages (from qtconsole->jupyter->tensorflow-object-detection-api) (2.0.1)\n",
      "Requirement already satisfied: webencodings in d:\\program files\\anaconda\\lib\\site-packages (from bleach>=2.1.0->readme-renderer>=35.0->twine->tensorflow-object-detection-api) (0.5.1)\n",
      "Requirement already satisfied: pyasn1-modules>=0.2.1 in d:\\program files\\anaconda\\lib\\site-packages (from google-auth<3,>=1.6.3->tensorboard<2.10,>=2.9->tensorflow->tensorflow-object-detection-api) (0.2.8)\n",
      "Requirement already satisfied: cachetools<5.0,>=2.0.0 in d:\\program files\\anaconda\\lib\\site-packages (from google-auth<3,>=1.6.3->tensorboard<2.10,>=2.9->tensorflow->tensorflow-object-detection-api) (4.2.2)\n",
      "Requirement already satisfied: rsa<5,>=3.1.4 in d:\\program files\\anaconda\\lib\\site-packages (from google-auth<3,>=1.6.3->tensorboard<2.10,>=2.9->tensorflow->tensorflow-object-detection-api) (4.7.2)\n",
      "Requirement already satisfied: requests-oauthlib>=0.7.0 in d:\\program files\\anaconda\\lib\\site-packages (from google-auth-oauthlib<0.5,>=0.4.1->tensorboard<2.10,>=2.9->tensorflow->tensorflow-object-detection-api) (1.3.1)\n",
      "Requirement already satisfied: backcall in d:\\program files\\anaconda\\lib\\site-packages (from ipython>=7.23.1->ipykernel->jupyter->tensorflow-object-detection-api) (0.2.0)\n",
      "Requirement already satisfied: stack-data in d:\\program files\\anaconda\\lib\\site-packages (from ipython>=7.23.1->ipykernel->jupyter->tensorflow-object-detection-api) (0.2.0)\n",
      "Requirement already satisfied: pickleshare in d:\\program files\\anaconda\\lib\\site-packages (from ipython>=7.23.1->ipykernel->jupyter->tensorflow-object-detection-api) (0.7.5)\n",
      "Requirement already satisfied: jedi>=0.16 in d:\\program files\\anaconda\\lib\\site-packages (from ipython>=7.23.1->ipykernel->jupyter->tensorflow-object-detection-api) (0.18.1)\n",
      "Requirement already satisfied: decorator in d:\\program files\\anaconda\\lib\\site-packages (from ipython>=7.23.1->ipykernel->jupyter->tensorflow-object-detection-api) (5.1.1)\n",
      "Requirement already satisfied: colorama in d:\\program files\\anaconda\\lib\\site-packages (from ipython>=7.23.1->ipykernel->jupyter->tensorflow-object-detection-api) (0.4.4)\n",
      "Requirement already satisfied: MarkupSafe>=0.23 in d:\\program files\\anaconda\\lib\\site-packages (from jinja2>=2.4->nbconvert->jupyter->tensorflow-object-detection-api) (2.0.1)\n",
      "Requirement already satisfied: pywin32>=1.0 in d:\\program files\\anaconda\\lib\\site-packages (from jupyter-core->nbconvert->jupyter->tensorflow-object-detection-api) (302)\n",
      "Requirement already satisfied: fastjsonschema in d:\\program files\\anaconda\\lib\\site-packages (from nbformat>=4.2.0->ipywidgets->jupyter->tensorflow-object-detection-api) (2.15.1)\n",
      "Requirement already satisfied: jsonschema>=2.6 in d:\\program files\\anaconda\\lib\\site-packages (from nbformat>=4.2.0->ipywidgets->jupyter->tensorflow-object-detection-api) (4.4.0)\n",
      "Requirement already satisfied: wcwidth in d:\\program files\\anaconda\\lib\\site-packages (from prompt-toolkit!=3.0.0,!=3.0.1,<3.1.0,>=2.0.0->jupyter-console->jupyter->tensorflow-object-detection-api) (0.2.5)\n",
      "Requirement already satisfied: pywinpty>=1.1.0 in d:\\program files\\anaconda\\lib\\site-packages (from terminado>=0.8.3->notebook->jupyter->tensorflow-object-detection-api) (2.0.2)\n",
      "Requirement already satisfied: argon2-cffi-bindings in d:\\program files\\anaconda\\lib\\site-packages (from argon2-cffi->notebook->jupyter->tensorflow-object-detection-api) (21.2.0)\n",
      "Requirement already satisfied: soupsieve>1.2 in d:\\program files\\anaconda\\lib\\site-packages (from beautifulsoup4->nbconvert->jupyter->tensorflow-object-detection-api) (2.3.1)\n",
      "Requirement already satisfied: parso<0.9.0,>=0.8.0 in d:\\program files\\anaconda\\lib\\site-packages (from jedi>=0.16->ipython>=7.23.1->ipykernel->jupyter->tensorflow-object-detection-api) (0.8.3)\n",
      "Requirement already satisfied: pyrsistent!=0.17.0,!=0.17.1,!=0.17.2,>=0.14.0 in d:\\program files\\anaconda\\lib\\site-packages (from jsonschema>=2.6->nbformat>=4.2.0->ipywidgets->jupyter->tensorflow-object-detection-api) (0.18.0)\n",
      "Requirement already satisfied: attrs>=17.4.0 in d:\\program files\\anaconda\\lib\\site-packages (from jsonschema>=2.6->nbformat>=4.2.0->ipywidgets->jupyter->tensorflow-object-detection-api) (21.4.0)\n",
      "Requirement already satisfied: pyasn1<0.5.0,>=0.4.6 in d:\\program files\\anaconda\\lib\\site-packages (from pyasn1-modules>=0.2.1->google-auth<3,>=1.6.3->tensorboard<2.10,>=2.9->tensorflow->tensorflow-object-detection-api) (0.4.8)\n",
      "Requirement already satisfied: oauthlib>=3.0.0 in d:\\program files\\anaconda\\lib\\site-packages (from requests-oauthlib>=0.7.0->google-auth-oauthlib<0.5,>=0.4.1->tensorboard<2.10,>=2.9->tensorflow->tensorflow-object-detection-api) (3.2.0)\n",
      "Requirement already satisfied: cffi>=1.0.1 in d:\\program files\\anaconda\\lib\\site-packages (from argon2-cffi-bindings->argon2-cffi->notebook->jupyter->tensorflow-object-detection-api) (1.15.0)\n",
      "Requirement already satisfied: pure-eval in d:\\program files\\anaconda\\lib\\site-packages (from stack-data->ipython>=7.23.1->ipykernel->jupyter->tensorflow-object-detection-api) (0.2.2)\n",
      "Requirement already satisfied: asttokens in d:\\program files\\anaconda\\lib\\site-packages (from stack-data->ipython>=7.23.1->ipykernel->jupyter->tensorflow-object-detection-api) (2.0.5)\n",
      "Requirement already satisfied: executing in d:\\program files\\anaconda\\lib\\site-packages (from stack-data->ipython>=7.23.1->ipykernel->jupyter->tensorflow-object-detection-api) (0.8.3)\n",
      "Requirement already satisfied: pycparser in d:\\program files\\anaconda\\lib\\site-packages (from cffi>=1.0.1->argon2-cffi-bindings->argon2-cffi->notebook->jupyter->tensorflow-object-detection-api) (2.21)\n"
     ]
    },
    {
     "name": "stderr",
     "output_type": "stream",
     "text": [
      "WARNING: Ignoring invalid distribution -ip (d:\\program files\\anaconda\\lib\\site-packages)\n",
      "WARNING: Ignoring invalid distribution -ip (d:\\program files\\anaconda\\lib\\site-packages)\n",
      "WARNING: Ignoring invalid distribution -ip (d:\\program files\\anaconda\\lib\\site-packages)\n",
      "WARNING: Ignoring invalid distribution -ip (d:\\program files\\anaconda\\lib\\site-packages)\n",
      "WARNING: Ignoring invalid distribution -ip (d:\\program files\\anaconda\\lib\\site-packages)\n",
      "WARNING: Ignoring invalid distribution -ip (d:\\program files\\anaconda\\lib\\site-packages)\n"
     ]
    }
   ],
   "source": [
    "!pip install tensorflow-object-detection-api"
   ]
  },
  {
   "cell_type": "markdown",
   "metadata": {
    "id": "xOlh5QL4UH0E"
   },
   "source": [
    "# Imports"
   ]
  },
  {
   "cell_type": "code",
   "execution_count": null,
   "metadata": {
    "colab": {
     "base_uri": "https://localhost:8080/"
    },
    "id": "pzuqqSk5nxS0",
    "outputId": "5c6b97d5-b548-470d-9d7f-cf6a989b29ab"
   },
   "outputs": [],
   "source": []
  },
  {
   "cell_type": "code",
   "execution_count": 1,
   "metadata": {
    "colab": {
     "base_uri": "https://localhost:8080/"
    },
    "id": "koqnroCMUH0E",
    "outputId": "dc84f8c0-3455-407e-f24d-3eb55e237117",
    "scrolled": true
   },
   "outputs": [
    {
     "name": "stdout",
     "output_type": "stream",
     "text": [
      "2.9.1\n"
     ]
    }
   ],
   "source": [
    "import numpy as np\n",
    "import os\n",
    "import six.moves.urllib as urllib\n",
    "import sys\n",
    "import tarfile\n",
    "import tensorflow as tf\n",
    "import zipfile\n",
    "import matplotlib.pyplot as plt\n",
    "\n",
    "from collections import defaultdict\n",
    "from io import StringIO\n",
    "from PIL import Image\n",
    "\n",
    "print(tf.__version__)"
   ]
  },
  {
   "cell_type": "markdown",
   "metadata": {
    "id": "YGZnOw_3UH0F"
   },
   "source": [
    "## Env setup"
   ]
  },
  {
   "cell_type": "code",
   "execution_count": 2,
   "metadata": {
    "id": "hNNqulZxUH0G"
   },
   "outputs": [],
   "source": [
    "# This is needed to display the images.\n",
    "%matplotlib inline\n",
    "\n",
    "# This is needed since the notebook is stored in the object_detection folder.\n",
    "sys.path.append(\"..\")"
   ]
  },
  {
   "cell_type": "markdown",
   "metadata": {
    "id": "YxbhOjtaUH0G"
   },
   "source": [
    "## Object detection imports\n",
    "Here are the imports from the object detection module."
   ]
  },
  {
   "cell_type": "code",
   "execution_count": 3,
   "metadata": {
    "id": "hOy6i26zUH0G"
   },
   "outputs": [],
   "source": [
    "from object_detection.utils import label_map_util\n",
    "from object_detection.utils import visualization_utils as vis_util"
   ]
  },
  {
   "cell_type": "code",
   "execution_count": 4,
   "metadata": {
    "colab": {
     "base_uri": "https://localhost:8080/"
    },
    "id": "U-98OEBPk3xG",
    "outputId": "3c1a2def-78f8-4582-867b-9ada78d10758"
   },
   "outputs": [
    {
     "name": "stderr",
     "output_type": "stream",
     "text": [
      "fatal: destination path 'AI-pothole-detection' already exists and is not an empty directory.\n"
     ]
    }
   ],
   "source": [
    "# Our Repo"
   ]
  },
  {
   "cell_type": "code",
   "execution_count": 5,
   "metadata": {
    "colab": {
     "base_uri": "https://localhost:8080/"
    },
    "id": "7hlMVkWGqlGB",
    "outputId": "eec61b1f-e04b-4b1e-dc87-5503b1cfdf16"
   },
   "outputs": [
    {
     "name": "stdout",
     "output_type": "stream",
     "text": [
      "C:\\Users\\Shakhriyor\\pothole-detection\\AI-pothole-detection\n"
     ]
    }
   ],
   "source": []
  },
  {
   "cell_type": "code",
   "execution_count": null,
   "metadata": {
    "colab": {
     "base_uri": "https://localhost:8080/"
    },
    "id": "mrtxoN-clUe_",
    "outputId": "689bacbf-af5a-4009-f11f-5d461398cc6a"
   },
   "outputs": [],
   "source": []
  },
  {
   "cell_type": "markdown",
   "metadata": {
    "id": "7kI8BIqjUH0G"
   },
   "source": [
    "# Model preparation for Faster RCNN"
   ]
  },
  {
   "cell_type": "code",
   "execution_count": 6,
   "metadata": {
    "id": "8rnzyxK1UH0H"
   },
   "outputs": [],
   "source": [
    "MODEL_NAME = 'inference_graph'\n",
    "PATH_TO_CKPT = MODEL_NAME + '/frozen_inference_graph.pb'\n",
    "PATH_TO_LABELS = 'labelmap.pbtxt'\n",
    "NUM_CLASSES = 4"
   ]
  },
  {
   "cell_type": "markdown",
   "metadata": {
    "id": "XmByqO0wUH0H"
   },
   "source": [
    "## Load a (frozen) Tensorflow model into memory."
   ]
  },
  {
   "cell_type": "code",
   "execution_count": 7,
   "metadata": {
    "id": "FL6GgfLXUH0H",
    "scrolled": true
   },
   "outputs": [],
   "source": [
    "detection_graph = tf.Graph()\n",
    "\n",
    "with detection_graph.as_default():\n",
    "    \n",
    "    od_graph_def = tf.compat.v1.GraphDef()\n",
    "    with tf.io.gfile.GFile(PATH_TO_CKPT, 'rb') as fid:\n",
    "        serialized_graph = fid.read()\n",
    "        od_graph_def.ParseFromString(serialized_graph)\n",
    "        tf.import_graph_def(od_graph_def, name='')"
   ]
  },
  {
   "cell_type": "markdown",
   "metadata": {
    "id": "Iht5-UDHUH0I"
   },
   "source": [
    "## Loading label map"
   ]
  },
  {
   "cell_type": "code",
   "execution_count": 8,
   "metadata": {
    "colab": {
     "base_uri": "https://localhost:8080/"
    },
    "id": "zp6Qn6m5UH0I",
    "outputId": "6d1397f0-0b26-47f0-d628-7d4e59f0d289"
   },
   "outputs": [],
   "source": [
    "label_map = label_map_util.load_labelmap(PATH_TO_LABELS)\n",
    "categories = label_map_util.convert_label_map_to_categories(label_map, max_num_classes=NUM_CLASSES, use_display_name=True)\n",
    "category_index = label_map_util.create_category_index(categories)"
   ]
  },
  {
   "cell_type": "markdown",
   "metadata": {
    "id": "Wz5xZ3sDUH0I"
   },
   "source": [
    "## Helper code"
   ]
  },
  {
   "cell_type": "code",
   "execution_count": 9,
   "metadata": {
    "id": "I-4gOAgqUH0J"
   },
   "outputs": [],
   "source": [
    "def load_image_into_numpy_array(image):\n",
    "    (im_width, im_height) = image.size\n",
    "    return np.array(image.getdata()).reshape((im_height, im_width, 3)).astype(np.uint8)"
   ]
  },
  {
   "cell_type": "markdown",
   "metadata": {
    "id": "JuWm6iNYUH0J"
   },
   "source": [
    "# Detection"
   ]
  },
  {
   "cell_type": "code",
   "execution_count": 10,
   "metadata": {
    "id": "0KkTzdxQo83R"
   },
   "outputs": [],
   "source": [
    "PATH_TO_TEST_IMAGES_DIR = 'pothole_testImages'\n",
    "TEST_IMAGE_PATHS = ['pothole_testImages/pothole1.jpg','pothole_testImages/pothole2.jpg','pothole_testImages/pothole3.jpg','pothole_testImages/pothole4.jpg','pothole_testImages/pothole5.jpg']\n",
    "TEST_IMAGE_PATHS\n",
    "# Size, in inches, of the output images.\n",
    "IMAGE_SIZE = (10, 10)"
   ]
  },
  {
   "cell_type": "code",
   "execution_count": null,
   "metadata": {
    "id": "owFf-HGKUH0J"
   },
   "outputs": [
    {
     "name": "stderr",
     "output_type": "stream",
     "text": [
      "C:\\Users\\Shakhriyor\\AppData\\Local\\Temp\\ipykernel_18564\\485679562.py:33: UserWarning: Matplotlib is currently using agg, which is a non-GUI backend, so cannot show the figure.\n",
      "  plt.show()\n"
     ]
    }
   ],
   "source": [
    "with detection_graph.as_default():\n",
    "    with tf.compat.v1.Session(graph=detection_graph) as session:\n",
    "    # Definite input and output Tensors for detection_graph\n",
    "        image_tensor = detection_graph.get_tensor_by_name('image_tensor:0')\n",
    "        # Each box represents a part of the image where a particular object was detected.\n",
    "        detection_boxes = detection_graph.get_tensor_by_name('detection_boxes:0')\n",
    "        detection_scores = detection_graph.get_tensor_by_name('detection_scores:0')\n",
    "        detection_classes = detection_graph.get_tensor_by_name('detection_classes:0')\n",
    "        num_detections = detection_graph.get_tensor_by_name('num_detections:0')\n",
    "        for image_path in TEST_IMAGE_PATHS:\n",
    "            image = Image.open(image_path)\n",
    "            image_np = load_image_into_numpy_array(image)\n",
    "            image_np_expanded = np.expand_dims(image_np, axis=0)\n",
    "\n",
    "         # Actual detection.\n",
    "            (boxes, scores, classes, num) = session.run(\n",
    "              [detection_boxes, detection_scores, detection_classes, num_detections],\n",
    "              feed_dict={image_tensor: image_np_expanded})\n",
    "\n",
    "        # Visualization of the results of a detection.\n",
    "            vis_util.visualize_boxes_and_labels_on_image_array(\n",
    "              image_np,\n",
    "              np.squeeze(boxes),\n",
    "              np.squeeze(classes).astype(np.int32),\n",
    "              np.squeeze(scores),\n",
    "              category_index,\n",
    "              use_normalized_coordinates=True,\n",
    "              line_thickness=8)\n",
    "\n",
    "            plt.figure(figsize=IMAGE_SIZE)\n",
    "            plt.imshow(image_np)\n",
    "    #       img = Image.fromarray(image_np)\n",
    "            plt.show()\n"
   ]
  },
  {
   "cell_type": "code",
   "execution_count": null,
   "metadata": {
    "colab": {
     "base_uri": "https://localhost:8080/",
     "height": 424
    },
    "id": "k4LO9Nyu_dP2",
    "outputId": "d8d6d45a-4ecb-467d-f105-15858a248e5b"
   },
   "outputs": [],
   "source": []
  },
  {
   "cell_type": "code",
   "execution_count": null,
   "metadata": {},
   "outputs": [],
   "source": []
  },
  {
   "cell_type": "code",
   "execution_count": null,
   "metadata": {},
   "outputs": [],
   "source": []
  }
 ],
 "metadata": {
  "accelerator": "GPU",
  "colab": {
   "collapsed_sections": [],
   "include_colab_link": true,
   "name": "AI-pothole-detection(Image).ipynb",
   "provenance": []
  },
  "kernelspec": {
   "display_name": "Python 3 (ipykernel)",
   "language": "python",
   "name": "python3"
  },
  "language_info": {
   "codemirror_mode": {
    "name": "ipython",
    "version": 3
   },
   "file_extension": ".py",
   "mimetype": "text/x-python",
   "name": "python",
   "nbconvert_exporter": "python",
   "pygments_lexer": "ipython3",
   "version": "3.9.12"
  }
 },
 "nbformat": 4,
 "nbformat_minor": 1
}
